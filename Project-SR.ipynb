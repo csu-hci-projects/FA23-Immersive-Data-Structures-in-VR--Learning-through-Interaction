{
 "cells": [
  {
   "cell_type": "markdown",
   "metadata": {},
   "source": [
    "# Beyond the Screen - AR Driven Insights"
   ]
  },
  {
   "cell_type": "code",
   "execution_count": 34,
   "metadata": {},
   "outputs": [],
   "source": [
    "import plotar\n",
    "import pandas as pd\n",
    "import numpy as np\n",
    "import matplotlib.pyplot as plt\n",
    "from pathlib import Path\n",
    "import requests\n",
    "import json"
   ]
  },
  {
   "cell_type": "markdown",
   "metadata": {},
   "source": [
    "## GAPminder Animated Scatter Plot"
   ]
  },
  {
   "cell_type": "markdown",
   "metadata": {},
   "source": [
    "Now let's animate the data showing how world wars etc. and general development shaped countries by looking at their income per capita, life expectancy, and population as size  - however, we can use one more dimension! children_per_woman are available for the whole time period.\n"
   ]
  },
  {
   "cell_type": "code",
   "execution_count": null,
   "metadata": {},
   "outputs": [],
   "source": [
    "url = 'https://github.com/UofTCoders/2018-09-10-utoronto/raw/gh-pages/data/world-data-gapminder.csv'\n",
    "gap = pd.read_csv(url)\n",
    "gap"
   ]
  },
  {
   "cell_type": "code",
   "execution_count": null,
   "metadata": {
    "tags": []
   },
   "outputs": [],
   "source": [
    "plot = plotar.animate(gap.query(\"region=='Europe'\"), xyz=['income','children_per_woman','life_expectancy'],\n",
    "    group='country', col='sub_region', size='population', animation_frame='year',\n",
    "    label = 'country', name=\"gapminder-animated-label\")\n",
    "plot"
   ]
  },
  {
   "cell_type": "code",
   "execution_count": null,
   "metadata": {},
   "outputs": [],
   "source": [
    "plot.write(\"examples/gapminder-animated-label.json\", format=\"json gltf glb usda usdz\".split())"
   ]
  },
  {
   "cell_type": "markdown",
   "metadata": {},
   "source": [
    "## Surface Plot of Switzerland"
   ]
  },
  {
   "cell_type": "markdown",
   "metadata": {},
   "source": [
    "We use the [Swisstopo Digital Height Model](https://www.swisstopo.admin.ch/de/geodata/height/dhm25200.html) 200m grid to draw a surface of Swizterland."
   ]
  },
  {
   "cell_type": "code",
   "execution_count": null,
   "metadata": {},
   "outputs": [],
   "source": [
    "url = 'https://data.geo.admin.ch/ch.swisstopo.digitales-hoehenmodell_25/data.zip'\n",
    "file_name = 'DHM200.asc'"
   ]
  },
  {
   "cell_type": "code",
   "execution_count": null,
   "metadata": {},
   "outputs": [],
   "source": [
    "def get_or_download(url, file_name, cache=\"tmp\"):\n",
    "    file = Path(cache) / file_name\n",
    "    if not file.exists():\n",
    "        from io import BytesIO\n",
    "        from zipfile import ZipFile\n",
    "        import shutil\n",
    "        print(f\"Downloading {url} to {file} ...\")\n",
    "        zipfile = ZipFile(BytesIO(requests.get(url).content))\n",
    "        with open(file, 'wb') as f:\n",
    "            shutil.copyfileobj(zipfile.open(file_name), f)\n",
    "        print(f\"Downloaded {file} from {url}\")\n",
    "    else:\n",
    "        print(f\"getting {file} from cache\")\n",
    "    return file"
   ]
  },
  {
   "cell_type": "code",
   "execution_count": null,
   "metadata": {},
   "outputs": [],
   "source": [
    "file = get_or_download(url, file_name)"
   ]
  },
  {
   "cell_type": "markdown",
   "metadata": {},
   "source": [
    "The GeoSpatial Information is in the first 6 rows of the file:"
   ]
  },
  {
   "cell_type": "code",
   "execution_count": null,
   "metadata": {},
   "outputs": [],
   "source": [
    "%%time\n",
    "y_head = {k: float(v) for k,v in np.genfromtxt(file, dtype=str, max_rows=6)}\n",
    "print(y_head)\n",
    "y = np.genfromtxt(file, skip_header=6, skip_footer=1)\n",
    "y.shape"
   ]
  },
  {
   "cell_type": "code",
   "execution_count": null,
   "metadata": {},
   "outputs": [],
   "source": [
    "n,m = [int(y_head[_]) for _ in ['NCOLS','NROWS']]\n",
    "n,m"
   ]
  },
  {
   "cell_type": "code",
   "execution_count": null,
   "metadata": {},
   "outputs": [],
   "source": [
    "img = y.flatten()[:n*(m-1)].reshape((m-1,n))"
   ]
  },
  {
   "cell_type": "code",
   "execution_count": null,
   "metadata": {},
   "outputs": [],
   "source": [
    "factor = 2"
   ]
  },
  {
   "cell_type": "code",
   "execution_count": null,
   "metadata": {},
   "outputs": [],
   "source": [
    "factor = 4"
   ]
  },
  {
   "cell_type": "code",
   "execution_count": null,
   "metadata": {},
   "outputs": [],
   "source": [
    "img = img[::factor,::factor]"
   ]
  },
  {
   "cell_type": "code",
   "execution_count": null,
   "metadata": {},
   "outputs": [],
   "source": [
    "xvec = np.arange(img.shape[1]) * y_head['CELLSIZE'] * factor\n",
    "yvec = np.arange(img.shape[0]) * y_head['CELLSIZE'] * factor"
   ]
  },
  {
   "cell_type": "code",
   "execution_count": null,
   "metadata": {},
   "outputs": [],
   "source": [
    "img[img>0].min()"
   ]
  },
  {
   "cell_type": "code",
   "execution_count": null,
   "metadata": {},
   "outputs": [],
   "source": [
    "img[img<0] = 150"
   ]
  },
  {
   "cell_type": "code",
   "execution_count": null,
   "metadata": {},
   "outputs": [],
   "source": [
    "plt.imshow(img, interpolation='none');"
   ]
  },
  {
   "cell_type": "code",
   "execution_count": null,
   "metadata": {
    "tags": []
   },
   "outputs": [],
   "source": [
    "plot = plotar.surfacevr(img, x=xvec, y=yvec, auto_scale=False, name=\"CH\")\n",
    "plot"
   ]
  },
  {
   "cell_type": "markdown",
   "metadata": {},
   "source": [
    "## Surface of Switzerland with color"
   ]
  },
  {
   "cell_type": "markdown",
   "metadata": {},
   "source": [
    "Now add the official satellite image on top of that surface."
   ]
  },
  {
   "cell_type": "code",
   "execution_count": null,
   "metadata": {},
   "outputs": [],
   "source": [
    "landsat_file = get_or_download(\"https://data.geo.admin.ch/ch.swisstopo.images-landsat25/data.zip\", \"LandsatMos25.tif\")\n",
    "landsat_metadata_file = get_or_download(\"https://data.geo.admin.ch/ch.swisstopo.images-landsat25/data.zip\", \"Landsatmos25.TFW\")"
   ]
  },
  {
   "cell_type": "code",
   "execution_count": null,
   "metadata": {},
   "outputs": [],
   "source": [
    "y_head"
   ]
  },
  {
   "cell_type": "code",
   "execution_count": null,
   "metadata": {},
   "outputs": [],
   "source": [
    "sat_head = np.genfromtxt(landsat_metadata_file).astype(np.int64)\n",
    "sat_head.T"
   ]
  },
  {
   "cell_type": "markdown",
   "metadata": {},
   "source": [
    "Description \n",
    "* First row is x-pixel resolution\n",
    "* Second and third rows are so-called \"rotational components\" but are set to zero in the case of an unrotated mapsheet.\n",
    "* The fourth row is the y-pixel resolution. The negative sign indicates that the image y-axis is positive down which is the opposite from real world coordinates.\n",
    "* The 5th and 6th rows are the Easting and Northing of the upper left pixel (0,0 in image coordinates). "
   ]
  },
  {
   "cell_type": "markdown",
   "metadata": {},
   "source": [
    "If you compare `y_head` and `sat_head` you see that unfortunately we need to crop the satellite to match the frame of the surface data:"
   ]
  },
  {
   "cell_type": "code",
   "execution_count": null,
   "metadata": {},
   "outputs": [],
   "source": [
    "crop = (\n",
    "    -sat_head[4] + (y_head['XLLCORNER']),\n",
    "    sat_head[5] - (y_head['YLLCORNER'] + y_head['CELLSIZE'] * y_head['NROWS']),\n",
    ")\n",
    "crop = crop + (\n",
    "    crop[0] + y_head['CELLSIZE'] * y_head['NCOLS'],\n",
    "    crop[1] + y_head['CELLSIZE'] * y_head['NROWS'],\n",
    ")\n",
    "np.array(crop)/25.0"
   ]
  },
  {
   "cell_type": "code",
   "execution_count": null,
   "metadata": {},
   "outputs": [],
   "source": [
    "from PIL import Image"
   ]
  },
  {
   "cell_type": "code",
   "execution_count": null,
   "metadata": {},
   "outputs": [],
   "source": [
    "landsat = Image.open(landsat_file)"
   ]
  },
  {
   "cell_type": "markdown",
   "metadata": {},
   "source": [
    "Now crop it and rescale it to the size of the surface"
   ]
  },
  {
   "cell_type": "code",
   "execution_count": null,
   "metadata": {},
   "outputs": [],
   "source": [
    "landsat_small = landsat.crop(np.array(crop)/25.0).resize(reversed(img.shape))"
   ]
  },
  {
   "cell_type": "code",
   "execution_count": null,
   "metadata": {},
   "outputs": [],
   "source": [
    "landsat_small.size, np.array(landsat_small).shape, img.shape"
   ]
  },
  {
   "cell_type": "code",
   "execution_count": null,
   "metadata": {},
   "outputs": [],
   "source": [
    "landsat_small"
   ]
  },
  {
   "cell_type": "markdown",
   "metadata": {},
   "source": [
    "Now plot it and resize it - also exaggerate the height by a factor ~3"
   ]
  },
  {
   "cell_type": "code",
   "execution_count": null,
   "metadata": {
    "tags": []
   },
   "outputs": [],
   "source": [
    "plot = plotar.surfacevr(img/100000, x=xvec/300000, y=yvec/300000, surfacecolor=np.array(landsat_small).astype(int).tolist(),\n",
    "                             auto_scale=False, name=\"CH-color\",)"
   ]
  },
  {
   "cell_type": "code",
   "execution_count": null,
   "metadata": {},
   "outputs": [],
   "source": [
    "plot.write(\"examples/CH-color.json\", format=\"json gltf glb usda usdz\".split())"
   ]
  }
 ],
 "metadata": {
  "kernelspec": {
   "display_name": "Python 3 (ipykernel)",
   "language": "python",
   "name": "python3"
  },
  "language_info": {
   "codemirror_mode": {
    "name": "ipython",
    "version": 3
   },
   "file_extension": ".py",
   "mimetype": "text/x-python",
   "name": "python",
   "nbconvert_exporter": "python",
   "pygments_lexer": "ipython3",
   "version": "3.9.12"
  }
 },
 "nbformat": 4,
 "nbformat_minor": 4
}
